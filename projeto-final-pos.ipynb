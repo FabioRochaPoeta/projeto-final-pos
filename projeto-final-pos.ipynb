{
 "cells": [
  {
   "attachments": {},
   "cell_type": "markdown",
   "metadata": {},
   "source": [
    "<h1>Market Basket - Rule and Data Mining</h1>"
   ]
  },
  {
   "attachments": {},
   "cell_type": "markdown",
   "metadata": {},
   "source": [
    "Oi, tudo bem? APRESENTAÇÃO:\n",
    "\n",
    "Nosso projeto vai analisar a base de dados das cestas de produtos compradas em uma empresa e apresentar, com base em seus padrões e regras, buscar oportunidades sugerindo técnicas e soluções para melhor desempenho da empresa. Futuramente, podemos focar neste nicho de mercado e oferecer este produto para outros varejistas no Brasl e talvez até no mundo todo.\n",
    "\n",
    "Iniciamos com uma entrevista inicial com a empresa TAL, ONDE ... Entender a \"dor\" do cliente. E se tem DB. (Planejamento de tempo - resolver essa parte até 24 de abril de 2022),\n",
    "\n",
    "Além disso, o grupo pesquisou na internet projetos e sites que oferecem soluções semelhantes (projetos de melhor uso de dados de cesta de compras, sistemas de recomendação e clusterização, criação de perfis de consumidor etc. - critérios e categorias de segmentação etc.)\n",
    "\n",
    "A busca no Google Scholar por artigos científicos relacionados a \"Market Basket\" e \"data mining\" para iniciar o trabalho com fundamentação científica resultou em 146 mil artigos: https://scholar.google.com.br/scholar?hl=pt-BR&as_sdt=0%2C5&q=Market+Basket+Data+Mining&btnG=\n",
    "\n",
    "Iniciamos o projeto analisando o \"Association Rule Mining\" ( https://courses.cs.duke.edu/compsci516/spring16/Papers/AssociationRuleMining.pdf ), que apresenta a técnica de mineração de regras de associação, que busca por padrões frequentes em grandes conjuntos de dados. Para isso, são utilizados os conceitos de regras de associação, confiança e suporte, além de serem apresentados os algoritmos Apriori e FP-Growth utilizados na mineração de regras.\n",
    "\n"
   ]
  },
  {
   "attachments": {},
   "cell_type": "markdown",
   "metadata": {},
   "source": [
    "RESUMO DO ARTIGO:\n",
    "\n",
    "Um dos desafios na mineração de regras de associação é o problema da escalabilidade, que ocorre quando o tamanho dos conjuntos de dados aumenta, aumentando significativamente o tempo de execução dos algoritmos. Outro problema é a presença de outliers nos dados, que pode afetar a qualidade das regras encontradas.\n",
    "\n",
    "Para lidar com esses problemas, o artigo propõe o uso de medidas como o suporte e a confiança na mineração de regras de associação. O suporte é uma medida de frequência que indica a proporção de transações em que um conjunto de itens aparece juntos. Já a confiança é uma medida que indica a probabilidade de que um item B apareça em uma transação que contém o item A.\n",
    "\n",
    "As fórmulas para o cálculo do suporte e confiança são as seguintes:\n",
    "\n",
    "\n",
    "Suporte (Support):\n",
    "\n",
    "S(A → B) = (N(A ∪ B)) / N\n",
    "onde N é o número total de transações, A e B são conjuntos de itens e N(A ∪ B) é o número de transações que contêm tanto A quanto B.\n",
    "\n",
    "\n",
    "Confiança (Confidence):\n",
    "\n",
    "C(A → B) = (N(A ∪ B)) / N(A)\n",
    "onde N(A) é o número de transações que contêm A.\n",
    "\n",
    "\n",
    "O suporte e a confiança são importantes na mineração de regras de associação, pois permitem avaliar a relevância de uma regra. Uma regra com alto suporte e confiança indica que é um padrão frequente nos dados e tem uma alta probabilidade de ser verdadeiro. Por outro lado, uma regra com baixo suporte e confiança pode ser irrelevante ou pouco confiável.\n",
    "\n",
    "O algoritmo Apriori é utilizado para lidar com a escalabilidade dos dados, utilizando um método de geração de candidatos para construir uma estrutura de dados chamada árvore de itens frequentes. O algoritmo percorre a árvore e avalia a frequência de cada item, a fim de gerar as regras de associação com base nos valores de suporte e confiança estabelecidos.\n",
    "\n",
    "Em resumo, o artigo apresenta as técnicas de mineração de regras de associação, os problemas da escalabilidade e presença de outliers nos dados, e a importância do suporte e confiança na avaliação da relevância das regras de associação encontradas, além de apresentar as fórmulas para o cálculo do suporte e confiança e o funcionamento do algoritmo Apriori."
   ]
  },
  {
   "attachments": {},
   "cell_type": "markdown",
   "metadata": {},
   "source": [
    "Com base no artigo \"Association Rule Mining with Apriori Algorithm: Implementation in Python\", podemos implementar o algoritmo Apriori para mineração de regras de associação em Python. Abaixo está uma implementação básica com a versão atualizada e as bibliotecas necessárias:"
   ]
  },
  {
   "cell_type": "code",
   "execution_count": 12,
   "metadata": {},
   "outputs": [
    {
     "name": "stdout",
     "output_type": "stream",
     "text": [
      "Requirement already satisfied: mlxtend in c:\\users\\fabio\\appdata\\local\\packages\\pythonsoftwarefoundation.python.3.10_qbz5n2kfra8p0\\localcache\\local-packages\\python310\\site-packages (0.22.0)\n",
      "Requirement already satisfied: scikit-learn>=1.0.2 in c:\\users\\fabio\\appdata\\local\\packages\\pythonsoftwarefoundation.python.3.10_qbz5n2kfra8p0\\localcache\\local-packages\\python310\\site-packages (from mlxtend) (1.2.2)\n",
      "Requirement already satisfied: scipy>=1.2.1 in c:\\users\\fabio\\appdata\\local\\packages\\pythonsoftwarefoundation.python.3.10_qbz5n2kfra8p0\\localcache\\local-packages\\python310\\site-packages (from mlxtend) (1.10.1)\n",
      "Requirement already satisfied: numpy>=1.16.2 in c:\\users\\fabio\\appdata\\local\\packages\\pythonsoftwarefoundation.python.3.10_qbz5n2kfra8p0\\localcache\\local-packages\\python310\\site-packages (from mlxtend) (1.24.2)\n",
      "Requirement already satisfied: setuptools in c:\\program files\\windowsapps\\pythonsoftwarefoundation.python.3.10_3.10.2800.0_x64__qbz5n2kfra8p0\\lib\\site-packages (from mlxtend) (65.5.0)\n",
      "Requirement already satisfied: joblib>=0.13.2 in c:\\users\\fabio\\appdata\\local\\packages\\pythonsoftwarefoundation.python.3.10_qbz5n2kfra8p0\\localcache\\local-packages\\python310\\site-packages (from mlxtend) (1.2.0)\n",
      "Requirement already satisfied: pandas>=0.24.2 in c:\\users\\fabio\\appdata\\local\\packages\\pythonsoftwarefoundation.python.3.10_qbz5n2kfra8p0\\localcache\\local-packages\\python310\\site-packages (from mlxtend) (1.5.3)\n",
      "Requirement already satisfied: matplotlib>=3.0.0 in c:\\users\\fabio\\appdata\\local\\packages\\pythonsoftwarefoundation.python.3.10_qbz5n2kfra8p0\\localcache\\local-packages\\python310\\site-packages (from mlxtend) (3.7.1)\n",
      "Requirement already satisfied: pillow>=6.2.0 in c:\\users\\fabio\\appdata\\local\\packages\\pythonsoftwarefoundation.python.3.10_qbz5n2kfra8p0\\localcache\\local-packages\\python310\\site-packages (from matplotlib>=3.0.0->mlxtend) (9.5.0)\n",
      "Requirement already satisfied: packaging>=20.0 in c:\\users\\fabio\\appdata\\local\\packages\\pythonsoftwarefoundation.python.3.10_qbz5n2kfra8p0\\localcache\\local-packages\\python310\\site-packages (from matplotlib>=3.0.0->mlxtend) (23.0)\n",
      "Requirement already satisfied: fonttools>=4.22.0 in c:\\users\\fabio\\appdata\\local\\packages\\pythonsoftwarefoundation.python.3.10_qbz5n2kfra8p0\\localcache\\local-packages\\python310\\site-packages (from matplotlib>=3.0.0->mlxtend) (4.39.3)\n",
      "Requirement already satisfied: python-dateutil>=2.7 in c:\\users\\fabio\\appdata\\local\\packages\\pythonsoftwarefoundation.python.3.10_qbz5n2kfra8p0\\localcache\\local-packages\\python310\\site-packages (from matplotlib>=3.0.0->mlxtend) (2.8.2)\n",
      "Requirement already satisfied: contourpy>=1.0.1 in c:\\users\\fabio\\appdata\\local\\packages\\pythonsoftwarefoundation.python.3.10_qbz5n2kfra8p0\\localcache\\local-packages\\python310\\site-packages (from matplotlib>=3.0.0->mlxtend) (1.0.7)\n",
      "Requirement already satisfied: kiwisolver>=1.0.1 in c:\\users\\fabio\\appdata\\local\\packages\\pythonsoftwarefoundation.python.3.10_qbz5n2kfra8p0\\localcache\\local-packages\\python310\\site-packages (from matplotlib>=3.0.0->mlxtend) (1.4.4)\n",
      "Requirement already satisfied: cycler>=0.10 in c:\\users\\fabio\\appdata\\local\\packages\\pythonsoftwarefoundation.python.3.10_qbz5n2kfra8p0\\localcache\\local-packages\\python310\\site-packages (from matplotlib>=3.0.0->mlxtend) (0.11.0)\n",
      "Requirement already satisfied: pyparsing>=2.3.1 in c:\\users\\fabio\\appdata\\local\\packages\\pythonsoftwarefoundation.python.3.10_qbz5n2kfra8p0\\localcache\\local-packages\\python310\\site-packages (from matplotlib>=3.0.0->mlxtend) (3.0.9)\n",
      "Requirement already satisfied: pytz>=2020.1 in c:\\users\\fabio\\appdata\\local\\packages\\pythonsoftwarefoundation.python.3.10_qbz5n2kfra8p0\\localcache\\local-packages\\python310\\site-packages (from pandas>=0.24.2->mlxtend) (2022.7.1)\n",
      "Requirement already satisfied: threadpoolctl>=2.0.0 in c:\\users\\fabio\\appdata\\local\\packages\\pythonsoftwarefoundation.python.3.10_qbz5n2kfra8p0\\localcache\\local-packages\\python310\\site-packages (from scikit-learn>=1.0.2->mlxtend) (3.1.0)\n",
      "Requirement already satisfied: six>=1.5 in c:\\users\\fabio\\appdata\\local\\packages\\pythonsoftwarefoundation.python.3.10_qbz5n2kfra8p0\\localcache\\local-packages\\python310\\site-packages (from python-dateutil>=2.7->matplotlib>=3.0.0->mlxtend) (1.16.0)\n",
      "Note: you may need to restart the kernel to use updated packages.\n"
     ]
    },
    {
     "ename": "AttributeError",
     "evalue": "'list' object has no attribute 'size'",
     "output_type": "error",
     "traceback": [
      "\u001b[1;31m---------------------------------------------------------------------------\u001b[0m",
      "\u001b[1;31mAttributeError\u001b[0m                            Traceback (most recent call last)",
      "Cell \u001b[1;32mIn[12], line 22\u001b[0m\n\u001b[0;32m     19\u001b[0m     transactions\u001b[39m.\u001b[39mappend([\u001b[39mstr\u001b[39m(df\u001b[39m.\u001b[39mvalues[i,j]) \u001b[39mfor\u001b[39;00m j \u001b[39min\u001b[39;00m \u001b[39mrange\u001b[39m(\u001b[39m0\u001b[39m, \u001b[39mlen\u001b[39m(df\u001b[39m.\u001b[39mcolumns))])\n\u001b[0;32m     21\u001b[0m \u001b[39m# Obtendo os itens frequentes # com suporte mínimo de 0.2 - add  min_support=0.2, \u001b[39;00m\n\u001b[1;32m---> 22\u001b[0m frequent_itemsets \u001b[39m=\u001b[39m apriori(transactions, use_colnames\u001b[39m=\u001b[39;49m\u001b[39mTrue\u001b[39;49;00m)\n\u001b[0;32m     24\u001b[0m \u001b[39m# Obtendo as regras de associação com confiança mínima de 0.7\u001b[39;00m\n\u001b[0;32m     25\u001b[0m rules \u001b[39m=\u001b[39m association_rules(frequent_itemsets, metric\u001b[39m=\u001b[39m\u001b[39m\"\u001b[39m\u001b[39mconfidence\u001b[39m\u001b[39m\"\u001b[39m, min_threshold\u001b[39m=\u001b[39m\u001b[39m0.7\u001b[39m)\n",
      "File \u001b[1;32m~\\AppData\\Local\\Packages\\PythonSoftwareFoundation.Python.3.10_qbz5n2kfra8p0\\LocalCache\\local-packages\\Python310\\site-packages\\mlxtend\\frequent_patterns\\apriori.py:241\u001b[0m, in \u001b[0;36mapriori\u001b[1;34m(df, min_support, use_colnames, max_len, verbose, low_memory)\u001b[0m\n\u001b[0;32m    234\u001b[0m \u001b[39mif\u001b[39;00m min_support \u001b[39m<\u001b[39m\u001b[39m=\u001b[39m \u001b[39m0.0\u001b[39m:\n\u001b[0;32m    235\u001b[0m     \u001b[39mraise\u001b[39;00m \u001b[39mValueError\u001b[39;00m(\n\u001b[0;32m    236\u001b[0m         \u001b[39m\"\u001b[39m\u001b[39m`min_support` must be a positive \u001b[39m\u001b[39m\"\u001b[39m\n\u001b[0;32m    237\u001b[0m         \u001b[39m\"\u001b[39m\u001b[39mnumber within the interval `(0, 1]`. \u001b[39m\u001b[39m\"\u001b[39m\n\u001b[0;32m    238\u001b[0m         \u001b[39m\"\u001b[39m\u001b[39mGot \u001b[39m\u001b[39m%s\u001b[39;00m\u001b[39m.\u001b[39m\u001b[39m\"\u001b[39m \u001b[39m%\u001b[39m min_support\n\u001b[0;32m    239\u001b[0m     )\n\u001b[1;32m--> 241\u001b[0m fpc\u001b[39m.\u001b[39;49mvalid_input_check(df)\n\u001b[0;32m    243\u001b[0m \u001b[39mif\u001b[39;00m \u001b[39mhasattr\u001b[39m(df, \u001b[39m\"\u001b[39m\u001b[39msparse\u001b[39m\u001b[39m\"\u001b[39m):\n\u001b[0;32m    244\u001b[0m     \u001b[39m# DataFrame with SparseArray (pandas >= 0.24)\u001b[39;00m\n\u001b[0;32m    245\u001b[0m     \u001b[39mif\u001b[39;00m df\u001b[39m.\u001b[39msize \u001b[39m==\u001b[39m \u001b[39m0\u001b[39m:\n",
      "File \u001b[1;32m~\\AppData\\Local\\Packages\\PythonSoftwareFoundation.Python.3.10_qbz5n2kfra8p0\\LocalCache\\local-packages\\Python310\\site-packages\\mlxtend\\frequent_patterns\\fpcommon.py:95\u001b[0m, in \u001b[0;36mvalid_input_check\u001b[1;34m(df)\u001b[0m\n\u001b[0;32m     84\u001b[0m     msg \u001b[39m=\u001b[39m (\n\u001b[0;32m     85\u001b[0m         \u001b[39m\"\u001b[39m\u001b[39mSparseDataFrame support has been deprecated in pandas 1.0,\u001b[39m\u001b[39m\"\u001b[39m\n\u001b[0;32m     86\u001b[0m         \u001b[39m\"\u001b[39m\u001b[39m and is no longer supported in mlxtend. \u001b[39m\u001b[39m\"\u001b[39m\n\u001b[1;32m   (...)\u001b[0m\n\u001b[0;32m     91\u001b[0m         \u001b[39m\"\u001b[39m\u001b[39m for supporting sparse data in DataFrames.\u001b[39m\u001b[39m\"\u001b[39m\n\u001b[0;32m     92\u001b[0m     )\n\u001b[0;32m     93\u001b[0m     \u001b[39mraise\u001b[39;00m \u001b[39mTypeError\u001b[39;00m(msg)\n\u001b[1;32m---> 95\u001b[0m \u001b[39mif\u001b[39;00m df\u001b[39m.\u001b[39;49msize \u001b[39m==\u001b[39m \u001b[39m0\u001b[39m:\n\u001b[0;32m     96\u001b[0m     \u001b[39mreturn\u001b[39;00m\n\u001b[0;32m     97\u001b[0m \u001b[39mif\u001b[39;00m \u001b[39mhasattr\u001b[39m(df, \u001b[39m\"\u001b[39m\u001b[39msparse\u001b[39m\u001b[39m\"\u001b[39m):\n",
      "\u001b[1;31mAttributeError\u001b[0m: 'list' object has no attribute 'size'"
     ]
    }
   ],
   "source": [
    "# códigos iniciais do projeto em Python - planejamento de data - até 28/04/2023\n",
    "\n",
    "raw_data_file = 'data/raw/olist_order_payments_dataset.csv' # atualizar dados aqui\n",
    "\n",
    "# Instalando bibliotecas necessárias\n",
    "%pip install mlxtend\n",
    "\n",
    "# Importando bibliotecas necessárias\n",
    "import pandas as pd\n",
    "from mlxtend.frequent_patterns import apriori\n",
    "from mlxtend.frequent_patterns import association_rules\n",
    "\n",
    "# Lendo o conjunto de dados\n",
    "df = pd.read_csv(raw_data_file, header=None) \n",
    "\n",
    "# Convertendo o conjunto de dados em uma matriz de transações\n",
    "transactions = []\n",
    "for i in range(0, len(df)):\n",
    "    transactions.append([str(df.values[i,j]) for j in range(0, len(df.columns))])\n",
    "\n",
    "# Obtendo os itens frequentes # com suporte mínimo de 0.2 - add  min_support=0.2, mesmo sem isso tá dando erro\n",
    "frequent_itemsets = apriori(transactions, use_colnames=True)\n",
    "\n",
    "# Obtendo as regras de associação com confiança mínima de 0.7\n",
    "rules = association_rules(frequent_itemsets, metric=\"confidence\", min_threshold=0.7)\n",
    "\n",
    "# Mostrando as regras de associação\n",
    "print(rules)\n",
    "\n"
   ]
  }
 ],
 "metadata": {
  "kernelspec": {
   "display_name": "Python 3",
   "language": "python",
   "name": "python3"
  },
  "language_info": {
   "codemirror_mode": {
    "name": "ipython",
    "version": 3
   },
   "file_extension": ".py",
   "mimetype": "text/x-python",
   "name": "python",
   "nbconvert_exporter": "python",
   "pygments_lexer": "ipython3",
   "version": "3.10.10 (tags/v3.10.10:aad5f6a, Feb  7 2023, 17:20:36) [MSC v.1929 64 bit (AMD64)]"
  },
  "orig_nbformat": 4,
  "vscode": {
   "interpreter": {
    "hash": "d143691b3b796dfa840125b678cbcfa24de4daa9df447a44f4f360662660234b"
   }
  }
 },
 "nbformat": 4,
 "nbformat_minor": 2
}
